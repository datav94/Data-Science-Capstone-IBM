{
 "cells": [
  {
   "cell_type": "markdown",
   "metadata": {},
   "source": [
    "###  Data\n",
    "1. To find the best location for our Japanese cuisine joint, we will use the following sources of information:\n",
    "\n",
    "2. We shall be using New-York city as our playground for this particular project. We need the dataset containing longitudes and latitudes of each neighbourhood in all of the 5 boroughs of New-york City. We shall use the following free dataset for that matter: https://geo.nyu.edu/catalog/nyu_2451_34572\n",
    "\n",
    "\n",
    "`From Foursquare Venues Categories - https://developer.foursquare.com/docs/resources/categories Sushi category Id - 4bf58dd8d48988d1d2941735`"
   ]
  }
 ],
 "metadata": {
  "kernelspec": {
   "display_name": "Python 3",
   "language": "python",
   "name": "python3"
  },
  "language_info": {
   "codemirror_mode": {
    "name": "ipython",
    "version": 3
   },
   "file_extension": ".py",
   "mimetype": "text/x-python",
   "name": "python",
   "nbconvert_exporter": "python",
   "pygments_lexer": "ipython3",
   "version": "3.7.4"
  }
 },
 "nbformat": 4,
 "nbformat_minor": 2
}

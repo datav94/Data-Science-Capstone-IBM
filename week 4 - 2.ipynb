{
 "cells": [
  {
   "cell_type": "markdown",
   "metadata": {},
   "source": [
    "#     Introduction\n",
    "    \n",
    "         Welcome to the world's most exciting city. The city of New-york. The city that doesn't need introduction. The city with a diversity of people and culture spread throughout. The city that never sleeps. New-york is the financial capital of the United States of America - the biggest superpower in the world and hence one of the most expensive cities for small startups. The analysis of which neighbourhoods are best for startup of a certain type of business will result in reduced costs and higher return on investment to any new entreprenaur."
   ]
  },
  {
   "cell_type": "markdown",
   "metadata": {},
   "source": [
    "## Problem:\n",
    "\n",
    "   In the city of dreams the immigration from various countries has been so high that it has influenced in building its diverse culture hugely. The city is full of all kinds of restaurants and Sushi joints are no different. They can be found on every nook and corner of the city.\n",
    "   The problem that prevails here is to find a neighbourhood that makes you stand out in your business and give the client a definite success \n",
    "   \n",
    "### Find a suitable location.\n",
    "\n",
    "    Finding a location depends on how huge or small a restaurant is being planned. if the target audiance is a high profile client and a large investment is being made then a sophisticated neighbourhood can be selected. On the other hand if the capital allows on a small joint then a crowded neighbourhood with preferably a shopping area around the corner is the best choice for business. \n",
    "\n",
    "### Target Audience.\n",
    "\n",
    "    Here we are looking for a client who wants to set up a restaurant i.e. a Sushi joint in Manhattan so we shall analyse that borough for neighbourhoods suitable for his business. "
   ]
  },
  {
   "cell_type": "markdown",
   "metadata": {},
   "source": [
    "\n",
    "\n",
    "    "
   ]
  }
 ],
 "metadata": {
  "kernelspec": {
   "display_name": "Python 3",
   "language": "python",
   "name": "python3"
  },
  "language_info": {
   "codemirror_mode": {
    "name": "ipython",
    "version": 3
   },
   "file_extension": ".py",
   "mimetype": "text/x-python",
   "name": "python",
   "nbconvert_exporter": "python",
   "pygments_lexer": "ipython3",
   "version": "3.7.4"
  }
 },
 "nbformat": 4,
 "nbformat_minor": 2
}
